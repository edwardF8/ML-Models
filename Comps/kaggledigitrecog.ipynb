{
 "cells": [
  {
   "cell_type": "code",
   "execution_count": 1,
   "metadata": {},
   "outputs": [
    {
     "name": "stdout",
     "output_type": "stream",
     "text": [
      "WARNING:tensorflow:From c:\\Users\\PC\\AppData\\Local\\Programs\\Python\\Python311\\Lib\\site-packages\\keras\\src\\losses.py:2976: The name tf.losses.sparse_softmax_cross_entropy is deprecated. Please use tf.compat.v1.losses.sparse_softmax_cross_entropy instead.\n",
      "\n"
     ]
    }
   ],
   "source": [
    "import pandas as pd\n",
    "import numpy as np\n",
    "import csv\n",
    "from keras.utils import to_categorical"
   ]
  },
  {
   "cell_type": "code",
   "execution_count": 26,
   "metadata": {},
   "outputs": [],
   "source": [
    "test = pd.read_csv('compdata\\\\kaggletest.csv')\n",
    "train = pd.read_csv('compdata\\\\kaggletrain.csv')\n",
    "\n",
    "from tensorflow.keras.utils import to_categorical\n",
    "labels_train = train['label']\n",
    "cat = to_categorical(labels_train)\n",
    "\n",
    "\n",
    "trainingset = train.drop('label', axis=1)\n",
    "trainingset = trainingset/255\n",
    "trainingset = trainingset.to_numpy()\n",
    "trainingset = trainingset.reshape(42000,28,28,1)\n",
    "\n",
    "testset = test\n",
    "testset = testset/255\n",
    "testset = testset.to_numpy()\n",
    "testset = testset.reshape(28000,28,28,1)\n"
   ]
  },
  {
   "cell_type": "code",
   "execution_count": 27,
   "metadata": {},
   "outputs": [],
   "source": [
    "from tensorflow.keras.models import Sequential\n",
    "from tensorflow.keras.layers import Dense, Conv2D, Flatten, MaxPool2D\n",
    "from tensorflow.keras.callbacks import EarlyStopping\n",
    "\n"
   ]
  },
  {
   "cell_type": "code",
   "execution_count": 56,
   "metadata": {},
   "outputs": [
    {
     "name": "stdout",
     "output_type": "stream",
     "text": [
      "Model: \"sequential_5\"\n",
      "_________________________________________________________________\n",
      " Layer (type)                Output Shape              Param #   \n",
      "=================================================================\n",
      " conv2d_18 (Conv2D)          (None, 28, 28, 64)        1088      \n",
      "                                                                 \n",
      " max_pooling2d_10 (MaxPooli  (None, 7, 7, 64)          0         \n",
      " ng2D)                                                           \n",
      "                                                                 \n",
      " conv2d_19 (Conv2D)          (None, 7, 7, 128)         32896     \n",
      "                                                                 \n",
      " flatten_7 (Flatten)         (None, 6272)              0         \n",
      "                                                                 \n",
      " dense_12 (Dense)            (None, 64)                401472    \n",
      "                                                                 \n",
      " dense_13 (Dense)            (None, 42)                2730      \n",
      "                                                                 \n",
      " dense_14 (Dense)            (None, 10)                430       \n",
      "                                                                 \n",
      "=================================================================\n",
      "Total params: 438616 (1.67 MB)\n",
      "Trainable params: 438616 (1.67 MB)\n",
      "Non-trainable params: 0 (0.00 Byte)\n",
      "_________________________________________________________________\n"
     ]
    }
   ],
   "source": [
    "convModel = Sequential([\n",
    "    Conv2D(filters=64,kernel_size=(4,4), input_shape=(28,28,1),padding='SAME'),\n",
    "    MaxPool2D(pool_size=(4,4)),\n",
    "    Conv2D(filters=128, kernel_size=(2,2),padding='SAME'),\n",
    "    Flatten(),\n",
    "    Dense(64, activation='relu'),\n",
    "    Dense(42, activation='relu'),\n",
    "    Dense(10,activation='softmax')\n",
    "])\n",
    "#Scaling Training Data \n",
    "convModel.compile(optimizer='adam', loss='categorical_crossentropy', metrics=['accuracy'])\n",
    "convModel.summary()\n"
   ]
  },
  {
   "cell_type": "code",
   "execution_count": 57,
   "metadata": {},
   "outputs": [],
   "source": [
    "from tensorflow.keras.callbacks import EarlyStopping"
   ]
  },
  {
   "cell_type": "code",
   "execution_count": 58,
   "metadata": {},
   "outputs": [
    {
     "name": "stdout",
     "output_type": "stream",
     "text": [
      "Epoch 1/25\n",
      "1313/1313 [==============================] - 11s 8ms/step - loss: 0.1804 - accuracy: 0.9451\n",
      "Epoch 2/25\n",
      "1313/1313 [==============================] - 10s 8ms/step - loss: 0.0661 - accuracy: 0.9793\n",
      "Epoch 3/25\n",
      "1313/1313 [==============================] - 10s 8ms/step - loss: 0.0500 - accuracy: 0.9846\n",
      "Epoch 4/25\n",
      "1313/1313 [==============================] - 10s 8ms/step - loss: 0.0436 - accuracy: 0.9862\n",
      "Epoch 5/25\n",
      "1313/1313 [==============================] - 10s 8ms/step - loss: 0.0371 - accuracy: 0.9882\n",
      "Epoch 6/25\n",
      "1313/1313 [==============================] - 11s 8ms/step - loss: 0.0325 - accuracy: 0.9895\n",
      "Epoch 7/25\n",
      "1313/1313 [==============================] - 12s 9ms/step - loss: 0.0285 - accuracy: 0.9909\n",
      "Epoch 8/25\n",
      "1313/1313 [==============================] - 11s 8ms/step - loss: 0.0239 - accuracy: 0.9926\n",
      "Epoch 9/25\n",
      "1313/1313 [==============================] - 11s 8ms/step - loss: 0.0272 - accuracy: 0.9913\n",
      "Epoch 10/25\n",
      "1313/1313 [==============================] - 10s 8ms/step - loss: 0.0214 - accuracy: 0.9931\n",
      "Epoch 11/25\n",
      "1313/1313 [==============================] - 10s 8ms/step - loss: 0.0228 - accuracy: 0.9929\n",
      "Epoch 12/25\n",
      "1313/1313 [==============================] - 10s 8ms/step - loss: 0.0206 - accuracy: 0.9935\n",
      "Epoch 13/25\n",
      "1313/1313 [==============================] - 10s 8ms/step - loss: 0.0191 - accuracy: 0.9944\n",
      "Epoch 14/25\n",
      "1313/1313 [==============================] - 10s 8ms/step - loss: 0.0153 - accuracy: 0.9948\n",
      "Epoch 15/25\n",
      "1313/1313 [==============================] - 10s 8ms/step - loss: 0.0196 - accuracy: 0.9941\n",
      "Epoch 16/25\n",
      "1313/1313 [==============================] - 10s 8ms/step - loss: 0.0185 - accuracy: 0.9946\n"
     ]
    },
    {
     "data": {
      "text/plain": [
       "<keras.src.callbacks.History at 0x29dc49e90d0>"
      ]
     },
     "execution_count": 58,
     "metadata": {},
     "output_type": "execute_result"
    }
   ],
   "source": [
    "callback = EarlyStopping(monitor='loss', patience=2)\n",
    "convModel.fit(trainingset, cat, epochs=25,callbacks=[callback])"
   ]
  },
  {
   "cell_type": "code",
   "execution_count": 41,
   "metadata": {},
   "outputs": [
    {
     "name": "stdout",
     "output_type": "stream",
     "text": [
      "875/875 [==============================] - 2s 2ms/step\n"
     ]
    }
   ],
   "source": [
    "results = convModel.predict(testset)\n",
    "maxeach = np.argmax(results,axis=1)"
   ]
  },
  {
   "cell_type": "code",
   "execution_count": 55,
   "metadata": {},
   "outputs": [],
   "source": [
    "findata = pd.DataFrame(maxeach)\n",
    "findata.columns = [\"Label\"]\n",
    "findata.rename_axis('ImageId',inplace=True)\n",
    "findata.index = range(1,len(findata)+1)\n",
    "findata.to_csv(\"digitrecogpred.csv\",index=True)"
   ]
  }
 ],
 "metadata": {
  "kernelspec": {
   "display_name": "Python 3",
   "language": "python",
   "name": "python3"
  },
  "language_info": {
   "codemirror_mode": {
    "name": "ipython",
    "version": 3
   },
   "file_extension": ".py",
   "mimetype": "text/x-python",
   "name": "python",
   "nbconvert_exporter": "python",
   "pygments_lexer": "ipython3",
   "version": "3.11.5"
  }
 },
 "nbformat": 4,
 "nbformat_minor": 2
}
